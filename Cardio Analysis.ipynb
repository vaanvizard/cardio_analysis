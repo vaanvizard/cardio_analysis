{
 "cells": [
  {
   "cell_type": "markdown",
   "id": "f7fd8a51-6186-4b48-af9d-6bae08786ceb",
   "metadata": {},
   "source": [
    "# Cardio Data Analysis"
   ]
  },
  {
   "cell_type": "markdown",
   "id": "6e5ac99c-bf84-4893-bc69-aced7ff4402d",
   "metadata": {},
   "source": [
    "Source: *https://www.kaggle.com/datasets/deependraverma13/cardio-activities*"
   ]
  },
  {
   "cell_type": "code",
   "execution_count": 129,
   "id": "69611938-025b-430e-aecf-5fe064f49537",
   "metadata": {},
   "outputs": [],
   "source": [
    "import pandas as pd\n",
    "import numpy as np\n",
    "import calendar"
   ]
  },
  {
   "cell_type": "code",
   "execution_count": 130,
   "id": "db0766ee-f502-40cc-a7aa-1860eb045c15",
   "metadata": {},
   "outputs": [],
   "source": [
    "path = '/home/lisa/Documents/Datasets/cardioActivities.csv'\n",
    "cardio_df = pd.read_csv(path)"
   ]
  },
  {
   "cell_type": "markdown",
   "id": "69db52ef-f032-43c2-b94d-fd8dd3f06a2f",
   "metadata": {},
   "source": [
    "<br>"
   ]
  },
  {
   "cell_type": "markdown",
   "id": "e66f386b-243a-4d4c-92d0-22b8776ed88f",
   "metadata": {},
   "source": [
    "## Initial Data Exploration"
   ]
  },
  {
   "cell_type": "code",
   "execution_count": 131,
   "id": "a30409fa-5a94-41aa-b5e7-940ee57db3c7",
   "metadata": {},
   "outputs": [
    {
     "data": {
      "text/html": [
       "<div>\n",
       "<style scoped>\n",
       "    .dataframe tbody tr th:only-of-type {\n",
       "        vertical-align: middle;\n",
       "    }\n",
       "\n",
       "    .dataframe tbody tr th {\n",
       "        vertical-align: top;\n",
       "    }\n",
       "\n",
       "    .dataframe thead th {\n",
       "        text-align: right;\n",
       "    }\n",
       "</style>\n",
       "<table border=\"1\" class=\"dataframe\">\n",
       "  <thead>\n",
       "    <tr style=\"text-align: right;\">\n",
       "      <th></th>\n",
       "      <th>Date</th>\n",
       "      <th>Activity Id</th>\n",
       "      <th>Type</th>\n",
       "      <th>Route Name</th>\n",
       "      <th>Distance (km)</th>\n",
       "      <th>Duration</th>\n",
       "      <th>Average Pace</th>\n",
       "      <th>Average Speed (km/h)</th>\n",
       "      <th>Calories Burned</th>\n",
       "      <th>Climb (m)</th>\n",
       "      <th>Average Heart Rate (bpm)</th>\n",
       "      <th>Friend's Tagged</th>\n",
       "      <th>Notes</th>\n",
       "      <th>GPX File</th>\n",
       "    </tr>\n",
       "  </thead>\n",
       "  <tbody>\n",
       "    <tr>\n",
       "      <th>0</th>\n",
       "      <td>2018-11-11 14:05:12</td>\n",
       "      <td>c9627fed-14ac-47a2-bed3-2a2630c63c15</td>\n",
       "      <td>Running</td>\n",
       "      <td>NaN</td>\n",
       "      <td>10.44</td>\n",
       "      <td>58:40</td>\n",
       "      <td>5:37</td>\n",
       "      <td>10.68</td>\n",
       "      <td>774.0</td>\n",
       "      <td>130</td>\n",
       "      <td>159.0</td>\n",
       "      <td>NaN</td>\n",
       "      <td>NaN</td>\n",
       "      <td>2018-11-11-140512.gpx</td>\n",
       "    </tr>\n",
       "    <tr>\n",
       "      <th>1</th>\n",
       "      <td>2018-11-09 15:02:35</td>\n",
       "      <td>be65818d-a801-4847-a43b-2acdf4dc70e7</td>\n",
       "      <td>Running</td>\n",
       "      <td>NaN</td>\n",
       "      <td>12.84</td>\n",
       "      <td>1:14:12</td>\n",
       "      <td>5:47</td>\n",
       "      <td>10.39</td>\n",
       "      <td>954.0</td>\n",
       "      <td>168</td>\n",
       "      <td>159.0</td>\n",
       "      <td>NaN</td>\n",
       "      <td>NaN</td>\n",
       "      <td>2018-11-09-150235.gpx</td>\n",
       "    </tr>\n",
       "    <tr>\n",
       "      <th>2</th>\n",
       "      <td>2018-11-04 16:05:00</td>\n",
       "      <td>c09b2f92-f855-497c-b624-c196b3ef036c</td>\n",
       "      <td>Running</td>\n",
       "      <td>NaN</td>\n",
       "      <td>13.01</td>\n",
       "      <td>1:15:16</td>\n",
       "      <td>5:47</td>\n",
       "      <td>10.37</td>\n",
       "      <td>967.0</td>\n",
       "      <td>171</td>\n",
       "      <td>155.0</td>\n",
       "      <td>NaN</td>\n",
       "      <td>NaN</td>\n",
       "      <td>2018-11-04-160500.gpx</td>\n",
       "    </tr>\n",
       "    <tr>\n",
       "      <th>3</th>\n",
       "      <td>2018-11-01 14:03:58</td>\n",
       "      <td>bc9b612d-3499-43ff-b82a-9b17b71b8a36</td>\n",
       "      <td>Running</td>\n",
       "      <td>NaN</td>\n",
       "      <td>12.98</td>\n",
       "      <td>1:14:25</td>\n",
       "      <td>5:44</td>\n",
       "      <td>10.47</td>\n",
       "      <td>960.0</td>\n",
       "      <td>169</td>\n",
       "      <td>158.0</td>\n",
       "      <td>NaN</td>\n",
       "      <td>NaN</td>\n",
       "      <td>2018-11-01-140358.gpx</td>\n",
       "    </tr>\n",
       "    <tr>\n",
       "      <th>4</th>\n",
       "      <td>2018-10-27 17:01:36</td>\n",
       "      <td>972567b2-1b0e-437c-9e82-fef8078d6438</td>\n",
       "      <td>Running</td>\n",
       "      <td>NaN</td>\n",
       "      <td>13.02</td>\n",
       "      <td>1:12:50</td>\n",
       "      <td>5:36</td>\n",
       "      <td>10.73</td>\n",
       "      <td>967.0</td>\n",
       "      <td>170</td>\n",
       "      <td>154.0</td>\n",
       "      <td>NaN</td>\n",
       "      <td>NaN</td>\n",
       "      <td>2018-10-27-170136.gpx</td>\n",
       "    </tr>\n",
       "  </tbody>\n",
       "</table>\n",
       "</div>"
      ],
      "text/plain": [
       "                  Date                           Activity Id     Type  \\\n",
       "0  2018-11-11 14:05:12  c9627fed-14ac-47a2-bed3-2a2630c63c15  Running   \n",
       "1  2018-11-09 15:02:35  be65818d-a801-4847-a43b-2acdf4dc70e7  Running   \n",
       "2  2018-11-04 16:05:00  c09b2f92-f855-497c-b624-c196b3ef036c  Running   \n",
       "3  2018-11-01 14:03:58  bc9b612d-3499-43ff-b82a-9b17b71b8a36  Running   \n",
       "4  2018-10-27 17:01:36  972567b2-1b0e-437c-9e82-fef8078d6438  Running   \n",
       "\n",
       "  Route Name  Distance (km) Duration Average Pace  Average Speed (km/h)  \\\n",
       "0        NaN          10.44    58:40         5:37                 10.68   \n",
       "1        NaN          12.84  1:14:12         5:47                 10.39   \n",
       "2        NaN          13.01  1:15:16         5:47                 10.37   \n",
       "3        NaN          12.98  1:14:25         5:44                 10.47   \n",
       "4        NaN          13.02  1:12:50         5:36                 10.73   \n",
       "\n",
       "   Calories Burned  Climb (m)  Average Heart Rate (bpm)  Friend's Tagged  \\\n",
       "0            774.0        130                     159.0              NaN   \n",
       "1            954.0        168                     159.0              NaN   \n",
       "2            967.0        171                     155.0              NaN   \n",
       "3            960.0        169                     158.0              NaN   \n",
       "4            967.0        170                     154.0              NaN   \n",
       "\n",
       "  Notes               GPX File  \n",
       "0   NaN  2018-11-11-140512.gpx  \n",
       "1   NaN  2018-11-09-150235.gpx  \n",
       "2   NaN  2018-11-04-160500.gpx  \n",
       "3   NaN  2018-11-01-140358.gpx  \n",
       "4   NaN  2018-10-27-170136.gpx  "
      ]
     },
     "execution_count": 131,
     "metadata": {},
     "output_type": "execute_result"
    }
   ],
   "source": [
    "cardio_df.head()"
   ]
  },
  {
   "cell_type": "code",
   "execution_count": 132,
   "id": "bbbba863-0eea-407c-9af0-d230b12d4a15",
   "metadata": {},
   "outputs": [
    {
     "name": "stdout",
     "output_type": "stream",
     "text": [
      "<class 'pandas.core.frame.DataFrame'>\n",
      "RangeIndex: 508 entries, 0 to 507\n",
      "Data columns (total 14 columns):\n",
      " #   Column                    Non-Null Count  Dtype  \n",
      "---  ------                    --------------  -----  \n",
      " 0   Date                      508 non-null    object \n",
      " 1   Activity Id               508 non-null    object \n",
      " 2   Type                      508 non-null    object \n",
      " 3   Route Name                1 non-null      object \n",
      " 4   Distance (km)             508 non-null    float64\n",
      " 5   Duration                  508 non-null    object \n",
      " 6   Average Pace              508 non-null    object \n",
      " 7   Average Speed (km/h)      508 non-null    float64\n",
      " 8   Calories Burned           508 non-null    float64\n",
      " 9   Climb (m)                 508 non-null    int64  \n",
      " 10  Average Heart Rate (bpm)  294 non-null    float64\n",
      " 11  Friend's Tagged           0 non-null      float64\n",
      " 12  Notes                     231 non-null    object \n",
      " 13  GPX File                  504 non-null    object \n",
      "dtypes: float64(5), int64(1), object(8)\n",
      "memory usage: 55.7+ KB\n"
     ]
    }
   ],
   "source": [
    "cardio_df.info()"
   ]
  },
  {
   "cell_type": "code",
   "execution_count": 133,
   "id": "4e7302e1-15a6-4425-b231-677496f2f6d2",
   "metadata": {},
   "outputs": [
    {
     "data": {
      "text/html": [
       "<div>\n",
       "<style scoped>\n",
       "    .dataframe tbody tr th:only-of-type {\n",
       "        vertical-align: middle;\n",
       "    }\n",
       "\n",
       "    .dataframe tbody tr th {\n",
       "        vertical-align: top;\n",
       "    }\n",
       "\n",
       "    .dataframe thead th {\n",
       "        text-align: right;\n",
       "    }\n",
       "</style>\n",
       "<table border=\"1\" class=\"dataframe\">\n",
       "  <thead>\n",
       "    <tr style=\"text-align: right;\">\n",
       "      <th></th>\n",
       "      <th>Date</th>\n",
       "      <th>Activity Id</th>\n",
       "      <th>Type</th>\n",
       "      <th>Route Name</th>\n",
       "      <th>Distance (km)</th>\n",
       "      <th>Duration</th>\n",
       "      <th>Average Pace</th>\n",
       "      <th>Average Speed (km/h)</th>\n",
       "      <th>Calories Burned</th>\n",
       "      <th>Climb (m)</th>\n",
       "      <th>Average Heart Rate (bpm)</th>\n",
       "      <th>Friend's Tagged</th>\n",
       "      <th>Notes</th>\n",
       "      <th>GPX File</th>\n",
       "    </tr>\n",
       "  </thead>\n",
       "  <tbody>\n",
       "    <tr>\n",
       "      <th>23</th>\n",
       "      <td>2018-07-20 08:01:51</td>\n",
       "      <td>83e5d964-2630-475d-9c17-d906ddd59eb0</td>\n",
       "      <td>Running</td>\n",
       "      <td>NaN</td>\n",
       "      <td>11.01</td>\n",
       "      <td>59:18</td>\n",
       "      <td>5:23</td>\n",
       "      <td>11.14</td>\n",
       "      <td>795.0</td>\n",
       "      <td>85</td>\n",
       "      <td>NaN</td>\n",
       "      <td>NaN</td>\n",
       "      <td>NaN</td>\n",
       "      <td>2018-07-20-080151.gpx</td>\n",
       "    </tr>\n",
       "    <tr>\n",
       "      <th>24</th>\n",
       "      <td>2018-07-18 08:08:39</td>\n",
       "      <td>1906f2c4-e77e-4364-98f2-f4eb1d8c9960</td>\n",
       "      <td>Running</td>\n",
       "      <td>NaN</td>\n",
       "      <td>11.04</td>\n",
       "      <td>55:41</td>\n",
       "      <td>5:03</td>\n",
       "      <td>11.90</td>\n",
       "      <td>801.0</td>\n",
       "      <td>87</td>\n",
       "      <td>NaN</td>\n",
       "      <td>NaN</td>\n",
       "      <td>NaN</td>\n",
       "      <td>2018-07-18-080839.gpx</td>\n",
       "    </tr>\n",
       "    <tr>\n",
       "      <th>87</th>\n",
       "      <td>2017-09-22 12:27:14</td>\n",
       "      <td>4817879b-dedb-4b3d-a2e8-92d41757ccea</td>\n",
       "      <td>Cycling</td>\n",
       "      <td>NaN</td>\n",
       "      <td>49.18</td>\n",
       "      <td>2:42:32</td>\n",
       "      <td>3:18</td>\n",
       "      <td>18.15</td>\n",
       "      <td>852.0</td>\n",
       "      <td>367</td>\n",
       "      <td>NaN</td>\n",
       "      <td>NaN</td>\n",
       "      <td>NaN</td>\n",
       "      <td>2017-09-22-122714.gpx</td>\n",
       "    </tr>\n",
       "    <tr>\n",
       "      <th>125</th>\n",
       "      <td>2017-05-17 18:18:34</td>\n",
       "      <td>f53266a4-2f39-4c18-ad50-6fd60ab34285</td>\n",
       "      <td>Running</td>\n",
       "      <td>NaN</td>\n",
       "      <td>13.82</td>\n",
       "      <td>1:10:59</td>\n",
       "      <td>5:08</td>\n",
       "      <td>11.68</td>\n",
       "      <td>1000.0</td>\n",
       "      <td>128</td>\n",
       "      <td>NaN</td>\n",
       "      <td>NaN</td>\n",
       "      <td>NaN</td>\n",
       "      <td>2017-05-17-181834.gpx</td>\n",
       "    </tr>\n",
       "    <tr>\n",
       "      <th>141</th>\n",
       "      <td>2017-03-26 17:10:40</td>\n",
       "      <td>2c90030a-14cb-46e6-8152-646bccabe3b5</td>\n",
       "      <td>Running</td>\n",
       "      <td>NaN</td>\n",
       "      <td>14.62</td>\n",
       "      <td>1:21:54</td>\n",
       "      <td>5:36</td>\n",
       "      <td>10.71</td>\n",
       "      <td>1062.0</td>\n",
       "      <td>149</td>\n",
       "      <td>NaN</td>\n",
       "      <td>NaN</td>\n",
       "      <td>NaN</td>\n",
       "      <td>2017-03-26-171040.gpx</td>\n",
       "    </tr>\n",
       "    <tr>\n",
       "      <th>...</th>\n",
       "      <td>...</td>\n",
       "      <td>...</td>\n",
       "      <td>...</td>\n",
       "      <td>...</td>\n",
       "      <td>...</td>\n",
       "      <td>...</td>\n",
       "      <td>...</td>\n",
       "      <td>...</td>\n",
       "      <td>...</td>\n",
       "      <td>...</td>\n",
       "      <td>...</td>\n",
       "      <td>...</td>\n",
       "      <td>...</td>\n",
       "      <td>...</td>\n",
       "    </tr>\n",
       "    <tr>\n",
       "      <th>503</th>\n",
       "      <td>2012-08-28 07:06:57</td>\n",
       "      <td>f5218490-a372-44c8-bb20-de3b91984cbe</td>\n",
       "      <td>Walking</td>\n",
       "      <td>NaN</td>\n",
       "      <td>1.57</td>\n",
       "      <td>13:39</td>\n",
       "      <td>8:41</td>\n",
       "      <td>6.91</td>\n",
       "      <td>926743.0</td>\n",
       "      <td>7</td>\n",
       "      <td>NaN</td>\n",
       "      <td>NaN</td>\n",
       "      <td>NaN</td>\n",
       "      <td>2012-08-28-070657.gpx</td>\n",
       "    </tr>\n",
       "    <tr>\n",
       "      <th>504</th>\n",
       "      <td>2012-08-24 12:59:42</td>\n",
       "      <td>018f66a7-da5e-4985-a8fe-725a33317c87</td>\n",
       "      <td>Walking</td>\n",
       "      <td>NaN</td>\n",
       "      <td>1.48</td>\n",
       "      <td>17:56</td>\n",
       "      <td>12:09</td>\n",
       "      <td>4.94</td>\n",
       "      <td>942192.0</td>\n",
       "      <td>12</td>\n",
       "      <td>NaN</td>\n",
       "      <td>NaN</td>\n",
       "      <td>NaN</td>\n",
       "      <td>2012-08-24-125942.gpx</td>\n",
       "    </tr>\n",
       "    <tr>\n",
       "      <th>505</th>\n",
       "      <td>2012-08-24 10:12:16</td>\n",
       "      <td>7acec95a-d63d-435d-837c-7befb352f500</td>\n",
       "      <td>Walking</td>\n",
       "      <td>NaN</td>\n",
       "      <td>1.49</td>\n",
       "      <td>13:43</td>\n",
       "      <td>9:14</td>\n",
       "      <td>6.49</td>\n",
       "      <td>924486.0</td>\n",
       "      <td>9</td>\n",
       "      <td>NaN</td>\n",
       "      <td>NaN</td>\n",
       "      <td>NaN</td>\n",
       "      <td>2012-08-24-101216.gpx</td>\n",
       "    </tr>\n",
       "    <tr>\n",
       "      <th>506</th>\n",
       "      <td>2012-08-24 08:13:12</td>\n",
       "      <td>f790bdb2-b921-4018-bd39-d59d870c5847</td>\n",
       "      <td>Running</td>\n",
       "      <td>NaN</td>\n",
       "      <td>3.15</td>\n",
       "      <td>16:00</td>\n",
       "      <td>5:05</td>\n",
       "      <td>11.82</td>\n",
       "      <td>2288868.0</td>\n",
       "      <td>17</td>\n",
       "      <td>NaN</td>\n",
       "      <td>NaN</td>\n",
       "      <td>NaN</td>\n",
       "      <td>2012-08-24-081312.gpx</td>\n",
       "    </tr>\n",
       "    <tr>\n",
       "      <th>507</th>\n",
       "      <td>2012-08-22 18:53:54</td>\n",
       "      <td>706d4d6b-767d-40aa-81c9-e5e85a102051</td>\n",
       "      <td>Running</td>\n",
       "      <td>NaN</td>\n",
       "      <td>5.69</td>\n",
       "      <td>31:08</td>\n",
       "      <td>5:29</td>\n",
       "      <td>10.95</td>\n",
       "      <td>4072685.0</td>\n",
       "      <td>32</td>\n",
       "      <td>NaN</td>\n",
       "      <td>NaN</td>\n",
       "      <td>NaN</td>\n",
       "      <td>2012-08-22-185354.gpx</td>\n",
       "    </tr>\n",
       "  </tbody>\n",
       "</table>\n",
       "<p>214 rows × 14 columns</p>\n",
       "</div>"
      ],
      "text/plain": [
       "                    Date                           Activity Id     Type  \\\n",
       "23   2018-07-20 08:01:51  83e5d964-2630-475d-9c17-d906ddd59eb0  Running   \n",
       "24   2018-07-18 08:08:39  1906f2c4-e77e-4364-98f2-f4eb1d8c9960  Running   \n",
       "87   2017-09-22 12:27:14  4817879b-dedb-4b3d-a2e8-92d41757ccea  Cycling   \n",
       "125  2017-05-17 18:18:34  f53266a4-2f39-4c18-ad50-6fd60ab34285  Running   \n",
       "141  2017-03-26 17:10:40  2c90030a-14cb-46e6-8152-646bccabe3b5  Running   \n",
       "..                   ...                                   ...      ...   \n",
       "503  2012-08-28 07:06:57  f5218490-a372-44c8-bb20-de3b91984cbe  Walking   \n",
       "504  2012-08-24 12:59:42  018f66a7-da5e-4985-a8fe-725a33317c87  Walking   \n",
       "505  2012-08-24 10:12:16  7acec95a-d63d-435d-837c-7befb352f500  Walking   \n",
       "506  2012-08-24 08:13:12  f790bdb2-b921-4018-bd39-d59d870c5847  Running   \n",
       "507  2012-08-22 18:53:54  706d4d6b-767d-40aa-81c9-e5e85a102051  Running   \n",
       "\n",
       "    Route Name  Distance (km) Duration Average Pace  Average Speed (km/h)  \\\n",
       "23         NaN          11.01    59:18         5:23                 11.14   \n",
       "24         NaN          11.04    55:41         5:03                 11.90   \n",
       "87         NaN          49.18  2:42:32         3:18                 18.15   \n",
       "125        NaN          13.82  1:10:59         5:08                 11.68   \n",
       "141        NaN          14.62  1:21:54         5:36                 10.71   \n",
       "..         ...            ...      ...          ...                   ...   \n",
       "503        NaN           1.57    13:39         8:41                  6.91   \n",
       "504        NaN           1.48    17:56        12:09                  4.94   \n",
       "505        NaN           1.49    13:43         9:14                  6.49   \n",
       "506        NaN           3.15    16:00         5:05                 11.82   \n",
       "507        NaN           5.69    31:08         5:29                 10.95   \n",
       "\n",
       "     Calories Burned  Climb (m)  Average Heart Rate (bpm)  Friend's Tagged  \\\n",
       "23             795.0         85                       NaN              NaN   \n",
       "24             801.0         87                       NaN              NaN   \n",
       "87             852.0        367                       NaN              NaN   \n",
       "125           1000.0        128                       NaN              NaN   \n",
       "141           1062.0        149                       NaN              NaN   \n",
       "..               ...        ...                       ...              ...   \n",
       "503         926743.0          7                       NaN              NaN   \n",
       "504         942192.0         12                       NaN              NaN   \n",
       "505         924486.0          9                       NaN              NaN   \n",
       "506        2288868.0         17                       NaN              NaN   \n",
       "507        4072685.0         32                       NaN              NaN   \n",
       "\n",
       "    Notes               GPX File  \n",
       "23    NaN  2018-07-20-080151.gpx  \n",
       "24    NaN  2018-07-18-080839.gpx  \n",
       "87    NaN  2017-09-22-122714.gpx  \n",
       "125   NaN  2017-05-17-181834.gpx  \n",
       "141   NaN  2017-03-26-171040.gpx  \n",
       "..    ...                    ...  \n",
       "503   NaN  2012-08-28-070657.gpx  \n",
       "504   NaN  2012-08-24-125942.gpx  \n",
       "505   NaN  2012-08-24-101216.gpx  \n",
       "506   NaN  2012-08-24-081312.gpx  \n",
       "507   NaN  2012-08-22-185354.gpx  \n",
       "\n",
       "[214 rows x 14 columns]"
      ]
     },
     "execution_count": 133,
     "metadata": {},
     "output_type": "execute_result"
    }
   ],
   "source": [
    "cardio_df[cardio_df['Average Heart Rate (bpm)'].isnull()]"
   ]
  },
  {
   "cell_type": "markdown",
   "id": "807c632e-a101-4b39-b561-d5c6bb350b9c",
   "metadata": {},
   "source": [
    "<br>"
   ]
  },
  {
   "cell_type": "markdown",
   "id": "fedeb9cc-50a6-4752-b8f6-770e905a4ef3",
   "metadata": {},
   "source": [
    "## Data Cleaning"
   ]
  },
  {
   "cell_type": "markdown",
   "id": "24ad0335-7746-45d5-bd0d-aaebb09c9a7d",
   "metadata": {},
   "source": [
    "### Drop Irrelevant Data"
   ]
  },
  {
   "cell_type": "markdown",
   "id": "a2c45fff-1933-45b5-8a94-15a6fb710830",
   "metadata": {},
   "source": [
    "After inspecting the data columns one by one, I have decided to delete the following, as they do not hold information relevant for the purpose of this analysis or as they have too many missing values:<br> \n",
    " - Activity Id\n",
    " - Route Name\n",
    " - Calories Burned\n",
    " - Average Heart Rate(bpm)\n",
    " - Friend's Tagged\n",
    " - Notes\n",
    " - GPX File"
   ]
  },
  {
   "cell_type": "code",
   "execution_count": 134,
   "id": "77fd3089-9ad9-430d-82b5-3c4ad7c4f1be",
   "metadata": {},
   "outputs": [],
   "source": [
    "cardio = cardio_df.drop(columns=['Activity Id', 'Route Name', 'Calories Burned', 'Average Heart Rate (bpm)', \"Friend's Tagged\", 'Notes', 'GPX File'])"
   ]
  },
  {
   "cell_type": "code",
   "execution_count": 135,
   "id": "59d6698d-c1ec-4392-86eb-e7d1c74e98d0",
   "metadata": {},
   "outputs": [
    {
     "data": {
      "text/html": [
       "<div>\n",
       "<style scoped>\n",
       "    .dataframe tbody tr th:only-of-type {\n",
       "        vertical-align: middle;\n",
       "    }\n",
       "\n",
       "    .dataframe tbody tr th {\n",
       "        vertical-align: top;\n",
       "    }\n",
       "\n",
       "    .dataframe thead th {\n",
       "        text-align: right;\n",
       "    }\n",
       "</style>\n",
       "<table border=\"1\" class=\"dataframe\">\n",
       "  <thead>\n",
       "    <tr style=\"text-align: right;\">\n",
       "      <th></th>\n",
       "      <th>Date</th>\n",
       "      <th>Type</th>\n",
       "      <th>Distance (km)</th>\n",
       "      <th>Duration</th>\n",
       "      <th>Average Pace</th>\n",
       "      <th>Average Speed (km/h)</th>\n",
       "      <th>Climb (m)</th>\n",
       "    </tr>\n",
       "  </thead>\n",
       "  <tbody>\n",
       "    <tr>\n",
       "      <th>0</th>\n",
       "      <td>2018-11-11 14:05:12</td>\n",
       "      <td>Running</td>\n",
       "      <td>10.44</td>\n",
       "      <td>58:40</td>\n",
       "      <td>5:37</td>\n",
       "      <td>10.68</td>\n",
       "      <td>130</td>\n",
       "    </tr>\n",
       "    <tr>\n",
       "      <th>1</th>\n",
       "      <td>2018-11-09 15:02:35</td>\n",
       "      <td>Running</td>\n",
       "      <td>12.84</td>\n",
       "      <td>1:14:12</td>\n",
       "      <td>5:47</td>\n",
       "      <td>10.39</td>\n",
       "      <td>168</td>\n",
       "    </tr>\n",
       "    <tr>\n",
       "      <th>2</th>\n",
       "      <td>2018-11-04 16:05:00</td>\n",
       "      <td>Running</td>\n",
       "      <td>13.01</td>\n",
       "      <td>1:15:16</td>\n",
       "      <td>5:47</td>\n",
       "      <td>10.37</td>\n",
       "      <td>171</td>\n",
       "    </tr>\n",
       "    <tr>\n",
       "      <th>3</th>\n",
       "      <td>2018-11-01 14:03:58</td>\n",
       "      <td>Running</td>\n",
       "      <td>12.98</td>\n",
       "      <td>1:14:25</td>\n",
       "      <td>5:44</td>\n",
       "      <td>10.47</td>\n",
       "      <td>169</td>\n",
       "    </tr>\n",
       "    <tr>\n",
       "      <th>4</th>\n",
       "      <td>2018-10-27 17:01:36</td>\n",
       "      <td>Running</td>\n",
       "      <td>13.02</td>\n",
       "      <td>1:12:50</td>\n",
       "      <td>5:36</td>\n",
       "      <td>10.73</td>\n",
       "      <td>170</td>\n",
       "    </tr>\n",
       "    <tr>\n",
       "      <th>...</th>\n",
       "      <td>...</td>\n",
       "      <td>...</td>\n",
       "      <td>...</td>\n",
       "      <td>...</td>\n",
       "      <td>...</td>\n",
       "      <td>...</td>\n",
       "      <td>...</td>\n",
       "    </tr>\n",
       "    <tr>\n",
       "      <th>503</th>\n",
       "      <td>2012-08-28 07:06:57</td>\n",
       "      <td>Walking</td>\n",
       "      <td>1.57</td>\n",
       "      <td>13:39</td>\n",
       "      <td>8:41</td>\n",
       "      <td>6.91</td>\n",
       "      <td>7</td>\n",
       "    </tr>\n",
       "    <tr>\n",
       "      <th>504</th>\n",
       "      <td>2012-08-24 12:59:42</td>\n",
       "      <td>Walking</td>\n",
       "      <td>1.48</td>\n",
       "      <td>17:56</td>\n",
       "      <td>12:09</td>\n",
       "      <td>4.94</td>\n",
       "      <td>12</td>\n",
       "    </tr>\n",
       "    <tr>\n",
       "      <th>505</th>\n",
       "      <td>2012-08-24 10:12:16</td>\n",
       "      <td>Walking</td>\n",
       "      <td>1.49</td>\n",
       "      <td>13:43</td>\n",
       "      <td>9:14</td>\n",
       "      <td>6.49</td>\n",
       "      <td>9</td>\n",
       "    </tr>\n",
       "    <tr>\n",
       "      <th>506</th>\n",
       "      <td>2012-08-24 08:13:12</td>\n",
       "      <td>Running</td>\n",
       "      <td>3.15</td>\n",
       "      <td>16:00</td>\n",
       "      <td>5:05</td>\n",
       "      <td>11.82</td>\n",
       "      <td>17</td>\n",
       "    </tr>\n",
       "    <tr>\n",
       "      <th>507</th>\n",
       "      <td>2012-08-22 18:53:54</td>\n",
       "      <td>Running</td>\n",
       "      <td>5.69</td>\n",
       "      <td>31:08</td>\n",
       "      <td>5:29</td>\n",
       "      <td>10.95</td>\n",
       "      <td>32</td>\n",
       "    </tr>\n",
       "  </tbody>\n",
       "</table>\n",
       "<p>508 rows × 7 columns</p>\n",
       "</div>"
      ],
      "text/plain": [
       "                    Date     Type  Distance (km) Duration Average Pace  \\\n",
       "0    2018-11-11 14:05:12  Running          10.44    58:40         5:37   \n",
       "1    2018-11-09 15:02:35  Running          12.84  1:14:12         5:47   \n",
       "2    2018-11-04 16:05:00  Running          13.01  1:15:16         5:47   \n",
       "3    2018-11-01 14:03:58  Running          12.98  1:14:25         5:44   \n",
       "4    2018-10-27 17:01:36  Running          13.02  1:12:50         5:36   \n",
       "..                   ...      ...            ...      ...          ...   \n",
       "503  2012-08-28 07:06:57  Walking           1.57    13:39         8:41   \n",
       "504  2012-08-24 12:59:42  Walking           1.48    17:56        12:09   \n",
       "505  2012-08-24 10:12:16  Walking           1.49    13:43         9:14   \n",
       "506  2012-08-24 08:13:12  Running           3.15    16:00         5:05   \n",
       "507  2012-08-22 18:53:54  Running           5.69    31:08         5:29   \n",
       "\n",
       "     Average Speed (km/h)  Climb (m)  \n",
       "0                   10.68        130  \n",
       "1                   10.39        168  \n",
       "2                   10.37        171  \n",
       "3                   10.47        169  \n",
       "4                   10.73        170  \n",
       "..                    ...        ...  \n",
       "503                  6.91          7  \n",
       "504                  4.94         12  \n",
       "505                  6.49          9  \n",
       "506                 11.82         17  \n",
       "507                 10.95         32  \n",
       "\n",
       "[508 rows x 7 columns]"
      ]
     },
     "execution_count": 135,
     "metadata": {},
     "output_type": "execute_result"
    }
   ],
   "source": [
    "cardio"
   ]
  },
  {
   "cell_type": "markdown",
   "id": "a0509558-f1c8-4b8f-864f-70e389a985a2",
   "metadata": {},
   "source": [
    "### Tidy Up Columns"
   ]
  },
  {
   "cell_type": "markdown",
   "id": "2b9121a1-1224-4e7c-99af-938683c31c32",
   "metadata": {},
   "source": [
    "Dividing Recording Date and Time into separate columns for detailed analysis purpose:"
   ]
  },
  {
   "cell_type": "code",
   "execution_count": 136,
   "id": "b98624fc-2a23-4243-99b2-56f13da9515e",
   "metadata": {},
   "outputs": [],
   "source": [
    "# Format object dtype to datetime:\n",
    "cardio['Date'] = pd.to_datetime(cardio.Date)"
   ]
  },
  {
   "cell_type": "code",
   "execution_count": 137,
   "id": "1ac0bec8-81e3-413c-98bf-be84fa0711d3",
   "metadata": {},
   "outputs": [],
   "source": [
    "# Create new columns:\n",
    "cardio['Record Date'] = cardio['Date'].dt.date\n",
    "cardio['Record Time'] = cardio['Date'].dt.time"
   ]
  },
  {
   "cell_type": "markdown",
   "id": "f1848e61-5b94-48b8-8e63-3a756c45690c",
   "metadata": {},
   "source": [
    "Add 'Weekday' and 'Daytime' columns to interpret the data during the analysis:"
   ]
  },
  {
   "cell_type": "code",
   "execution_count": 138,
   "id": "4921a4d5-66b3-46ab-be3e-85b7f92ae919",
   "metadata": {},
   "outputs": [],
   "source": [
    "# Turn datetime objects into weekday names, add them to a list and turn list into Series to add to cardio DF:\n",
    "cardio['Record Date'] = pd.to_datetime(cardio['Record Date'])\n",
    "\n",
    "weekday_list = []\n",
    "\n",
    "for entry in cardio['Record Date']:\n",
    "    weekday_list.append(entry.day_name())\n",
    "\n",
    "cardio['Weekday'] = pd.Series(weekday_list)"
   ]
  },
  {
   "cell_type": "code",
   "execution_count": 139,
   "id": "3c577036-4aec-4406-9aad-ffd6ff2100bd",
   "metadata": {},
   "outputs": [],
   "source": [
    "# Create 'Daytime' column with boolean masking:\n",
    "time = cardio['Date'].dt.hour\n",
    "\n",
    "cardio['Daytime'] = np.select([\n",
    "    (time >= 6) & (time < 12),\n",
    "    (time >= 12) & (time < 14),\n",
    "    (time >= 14) & (time < 18),\n",
    "    (time >= 18) & (time < 21),\n",
    "    (time >= 21) | (time < 6)\n",
    "], ['Morning', 'Noon', 'Afternoon', 'Evening', 'Night'])"
   ]
  },
  {
   "cell_type": "code",
   "execution_count": 140,
   "id": "dedecaba-5d41-418e-8f0e-897d81a75c57",
   "metadata": {},
   "outputs": [],
   "source": [
    "# Create 'Month' column:\n",
    "month_list = []\n",
    "\n",
    "for entry in cardio['Date']:\n",
    "    month = entry.month\n",
    "    month_list.append(calendar.month_name[month])\n",
    "\n",
    "cardio['Month'] = pd.Series(month_list)"
   ]
  },
  {
   "cell_type": "code",
   "execution_count": 141,
   "id": "05e0b124-b8a8-4ee6-9b23-17475702c79c",
   "metadata": {},
   "outputs": [],
   "source": [
    "# Create 'Year' column:\n",
    "year_list = []\n",
    "\n",
    "for entry in cardio['Date']:\n",
    "    year_list.append(entry.year)\n",
    "\n",
    "cardio['Year'] = pd.Series(year_list)"
   ]
  },
  {
   "cell_type": "markdown",
   "id": "a2bac6b5-c211-433e-aeda-5eaf08123902",
   "metadata": {},
   "source": [
    "Clean up column order and drop irrelevant 'Date' column:\n"
   ]
  },
  {
   "cell_type": "code",
   "execution_count": 144,
   "id": "e12da03d-cfaf-4ae9-887f-acd6099378e7",
   "metadata": {},
   "outputs": [],
   "source": [
    "cardio_df = cardio[['Record Date', 'Year', 'Month', 'Weekday', 'Record Time', 'Daytime', 'Type', 'Distance (km)', 'Duration', 'Average Pace', 'Average Speed (km/h)', 'Climb (m)']]"
   ]
  },
  {
   "cell_type": "code",
   "execution_count": 145,
   "id": "bb26be57-0630-46cc-8c2a-9874eefaa7f7",
   "metadata": {},
   "outputs": [
    {
     "data": {
      "text/html": [
       "<div>\n",
       "<style scoped>\n",
       "    .dataframe tbody tr th:only-of-type {\n",
       "        vertical-align: middle;\n",
       "    }\n",
       "\n",
       "    .dataframe tbody tr th {\n",
       "        vertical-align: top;\n",
       "    }\n",
       "\n",
       "    .dataframe thead th {\n",
       "        text-align: right;\n",
       "    }\n",
       "</style>\n",
       "<table border=\"1\" class=\"dataframe\">\n",
       "  <thead>\n",
       "    <tr style=\"text-align: right;\">\n",
       "      <th></th>\n",
       "      <th>Record Date</th>\n",
       "      <th>Year</th>\n",
       "      <th>Month</th>\n",
       "      <th>Weekday</th>\n",
       "      <th>Record Time</th>\n",
       "      <th>Daytime</th>\n",
       "      <th>Type</th>\n",
       "      <th>Distance (km)</th>\n",
       "      <th>Duration</th>\n",
       "      <th>Average Pace</th>\n",
       "      <th>Average Speed (km/h)</th>\n",
       "      <th>Climb (m)</th>\n",
       "    </tr>\n",
       "  </thead>\n",
       "  <tbody>\n",
       "    <tr>\n",
       "      <th>0</th>\n",
       "      <td>2018-11-11</td>\n",
       "      <td>2018</td>\n",
       "      <td>November</td>\n",
       "      <td>Sunday</td>\n",
       "      <td>14:05:12</td>\n",
       "      <td>Afternoon</td>\n",
       "      <td>Running</td>\n",
       "      <td>10.44</td>\n",
       "      <td>58:40</td>\n",
       "      <td>5:37</td>\n",
       "      <td>10.68</td>\n",
       "      <td>130</td>\n",
       "    </tr>\n",
       "    <tr>\n",
       "      <th>1</th>\n",
       "      <td>2018-11-09</td>\n",
       "      <td>2018</td>\n",
       "      <td>November</td>\n",
       "      <td>Friday</td>\n",
       "      <td>15:02:35</td>\n",
       "      <td>Afternoon</td>\n",
       "      <td>Running</td>\n",
       "      <td>12.84</td>\n",
       "      <td>1:14:12</td>\n",
       "      <td>5:47</td>\n",
       "      <td>10.39</td>\n",
       "      <td>168</td>\n",
       "    </tr>\n",
       "    <tr>\n",
       "      <th>2</th>\n",
       "      <td>2018-11-04</td>\n",
       "      <td>2018</td>\n",
       "      <td>November</td>\n",
       "      <td>Sunday</td>\n",
       "      <td>16:05:00</td>\n",
       "      <td>Afternoon</td>\n",
       "      <td>Running</td>\n",
       "      <td>13.01</td>\n",
       "      <td>1:15:16</td>\n",
       "      <td>5:47</td>\n",
       "      <td>10.37</td>\n",
       "      <td>171</td>\n",
       "    </tr>\n",
       "    <tr>\n",
       "      <th>3</th>\n",
       "      <td>2018-11-01</td>\n",
       "      <td>2018</td>\n",
       "      <td>November</td>\n",
       "      <td>Thursday</td>\n",
       "      <td>14:03:58</td>\n",
       "      <td>Afternoon</td>\n",
       "      <td>Running</td>\n",
       "      <td>12.98</td>\n",
       "      <td>1:14:25</td>\n",
       "      <td>5:44</td>\n",
       "      <td>10.47</td>\n",
       "      <td>169</td>\n",
       "    </tr>\n",
       "    <tr>\n",
       "      <th>4</th>\n",
       "      <td>2018-10-27</td>\n",
       "      <td>2018</td>\n",
       "      <td>October</td>\n",
       "      <td>Saturday</td>\n",
       "      <td>17:01:36</td>\n",
       "      <td>Afternoon</td>\n",
       "      <td>Running</td>\n",
       "      <td>13.02</td>\n",
       "      <td>1:12:50</td>\n",
       "      <td>5:36</td>\n",
       "      <td>10.73</td>\n",
       "      <td>170</td>\n",
       "    </tr>\n",
       "    <tr>\n",
       "      <th>...</th>\n",
       "      <td>...</td>\n",
       "      <td>...</td>\n",
       "      <td>...</td>\n",
       "      <td>...</td>\n",
       "      <td>...</td>\n",
       "      <td>...</td>\n",
       "      <td>...</td>\n",
       "      <td>...</td>\n",
       "      <td>...</td>\n",
       "      <td>...</td>\n",
       "      <td>...</td>\n",
       "      <td>...</td>\n",
       "    </tr>\n",
       "    <tr>\n",
       "      <th>503</th>\n",
       "      <td>2012-08-28</td>\n",
       "      <td>2012</td>\n",
       "      <td>August</td>\n",
       "      <td>Tuesday</td>\n",
       "      <td>07:06:57</td>\n",
       "      <td>Morning</td>\n",
       "      <td>Walking</td>\n",
       "      <td>1.57</td>\n",
       "      <td>13:39</td>\n",
       "      <td>8:41</td>\n",
       "      <td>6.91</td>\n",
       "      <td>7</td>\n",
       "    </tr>\n",
       "    <tr>\n",
       "      <th>504</th>\n",
       "      <td>2012-08-24</td>\n",
       "      <td>2012</td>\n",
       "      <td>August</td>\n",
       "      <td>Friday</td>\n",
       "      <td>12:59:42</td>\n",
       "      <td>Noon</td>\n",
       "      <td>Walking</td>\n",
       "      <td>1.48</td>\n",
       "      <td>17:56</td>\n",
       "      <td>12:09</td>\n",
       "      <td>4.94</td>\n",
       "      <td>12</td>\n",
       "    </tr>\n",
       "    <tr>\n",
       "      <th>505</th>\n",
       "      <td>2012-08-24</td>\n",
       "      <td>2012</td>\n",
       "      <td>August</td>\n",
       "      <td>Friday</td>\n",
       "      <td>10:12:16</td>\n",
       "      <td>Morning</td>\n",
       "      <td>Walking</td>\n",
       "      <td>1.49</td>\n",
       "      <td>13:43</td>\n",
       "      <td>9:14</td>\n",
       "      <td>6.49</td>\n",
       "      <td>9</td>\n",
       "    </tr>\n",
       "    <tr>\n",
       "      <th>506</th>\n",
       "      <td>2012-08-24</td>\n",
       "      <td>2012</td>\n",
       "      <td>August</td>\n",
       "      <td>Friday</td>\n",
       "      <td>08:13:12</td>\n",
       "      <td>Morning</td>\n",
       "      <td>Running</td>\n",
       "      <td>3.15</td>\n",
       "      <td>16:00</td>\n",
       "      <td>5:05</td>\n",
       "      <td>11.82</td>\n",
       "      <td>17</td>\n",
       "    </tr>\n",
       "    <tr>\n",
       "      <th>507</th>\n",
       "      <td>2012-08-22</td>\n",
       "      <td>2012</td>\n",
       "      <td>August</td>\n",
       "      <td>Wednesday</td>\n",
       "      <td>18:53:54</td>\n",
       "      <td>Evening</td>\n",
       "      <td>Running</td>\n",
       "      <td>5.69</td>\n",
       "      <td>31:08</td>\n",
       "      <td>5:29</td>\n",
       "      <td>10.95</td>\n",
       "      <td>32</td>\n",
       "    </tr>\n",
       "  </tbody>\n",
       "</table>\n",
       "<p>508 rows × 12 columns</p>\n",
       "</div>"
      ],
      "text/plain": [
       "    Record Date  Year     Month    Weekday Record Time    Daytime     Type  \\\n",
       "0    2018-11-11  2018  November     Sunday    14:05:12  Afternoon  Running   \n",
       "1    2018-11-09  2018  November     Friday    15:02:35  Afternoon  Running   \n",
       "2    2018-11-04  2018  November     Sunday    16:05:00  Afternoon  Running   \n",
       "3    2018-11-01  2018  November   Thursday    14:03:58  Afternoon  Running   \n",
       "4    2018-10-27  2018   October   Saturday    17:01:36  Afternoon  Running   \n",
       "..          ...   ...       ...        ...         ...        ...      ...   \n",
       "503  2012-08-28  2012    August    Tuesday    07:06:57    Morning  Walking   \n",
       "504  2012-08-24  2012    August     Friday    12:59:42       Noon  Walking   \n",
       "505  2012-08-24  2012    August     Friday    10:12:16    Morning  Walking   \n",
       "506  2012-08-24  2012    August     Friday    08:13:12    Morning  Running   \n",
       "507  2012-08-22  2012    August  Wednesday    18:53:54    Evening  Running   \n",
       "\n",
       "     Distance (km) Duration Average Pace  Average Speed (km/h)  Climb (m)  \n",
       "0            10.44    58:40         5:37                 10.68        130  \n",
       "1            12.84  1:14:12         5:47                 10.39        168  \n",
       "2            13.01  1:15:16         5:47                 10.37        171  \n",
       "3            12.98  1:14:25         5:44                 10.47        169  \n",
       "4            13.02  1:12:50         5:36                 10.73        170  \n",
       "..             ...      ...          ...                   ...        ...  \n",
       "503           1.57    13:39         8:41                  6.91          7  \n",
       "504           1.48    17:56        12:09                  4.94         12  \n",
       "505           1.49    13:43         9:14                  6.49          9  \n",
       "506           3.15    16:00         5:05                 11.82         17  \n",
       "507           5.69    31:08         5:29                 10.95         32  \n",
       "\n",
       "[508 rows x 12 columns]"
      ]
     },
     "execution_count": 145,
     "metadata": {},
     "output_type": "execute_result"
    }
   ],
   "source": [
    "cardio_df"
   ]
  },
  {
   "cell_type": "markdown",
   "id": "48f5c1ba-14b1-49dd-bfe0-a915b32e1bc1",
   "metadata": {},
   "source": [
    "### Type of Activity Differentiation"
   ]
  },
  {
   "cell_type": "markdown",
   "id": "34f89e95-201c-4dcb-82aa-4f0742340e06",
   "metadata": {},
   "source": [
    "Create separate DataFrames dividing the data by activity type to simplify syntax during analysis:"
   ]
  },
  {
   "cell_type": "code",
   "execution_count": 146,
   "id": "ccec6b50-befc-4cf1-9579-ca983b1b0f02",
   "metadata": {},
   "outputs": [
    {
     "data": {
      "text/plain": [
       "array(['Running', 'Cycling', 'Other', 'Walking'], dtype=object)"
      ]
     },
     "execution_count": 146,
     "metadata": {},
     "output_type": "execute_result"
    }
   ],
   "source": [
    "cardio_df['Type'].unique()"
   ]
  },
  {
   "cell_type": "code",
   "execution_count": 147,
   "id": "57d93216-0046-4464-b2f4-d821264233ab",
   "metadata": {},
   "outputs": [],
   "source": [
    "running = cardio_df.loc[cardio_df['Type'] == 'Running']"
   ]
  },
  {
   "cell_type": "code",
   "execution_count": 148,
   "id": "5a7e01a2-2974-44ed-8db5-27a65ffbdf29",
   "metadata": {},
   "outputs": [],
   "source": [
    "walking = cardio_df.loc[cardio_df['Type'] == 'Walking']"
   ]
  },
  {
   "cell_type": "code",
   "execution_count": 149,
   "id": "d5f99e4e-48d4-4ed0-9818-edb4d7eade13",
   "metadata": {},
   "outputs": [],
   "source": [
    "cycling = cardio_df.loc[cardio_df['Type'] == 'Cycling']"
   ]
  },
  {
   "cell_type": "code",
   "execution_count": 150,
   "id": "690bbedb-90f2-4bd2-a3fe-14c4837346cb",
   "metadata": {},
   "outputs": [],
   "source": [
    "other = cardio_df.loc[cardio_df['Type'] == 'Other']"
   ]
  },
  {
   "cell_type": "markdown",
   "id": "3967547c-a671-4ca3-a477-ef974333f3e6",
   "metadata": {},
   "source": [
    "<br>"
   ]
  },
  {
   "cell_type": "markdown",
   "id": "cced6bfc-55fa-47c7-9888-5055926af4f9",
   "metadata": {},
   "source": [
    "## Exploratory Analysis"
   ]
  },
  {
   "cell_type": "code",
   "execution_count": 151,
   "id": "a50e9074-6561-421f-aac3-8b1bc0621075",
   "metadata": {
    "scrolled": true
   },
   "outputs": [
    {
     "data": {
      "text/html": [
       "<div>\n",
       "<style scoped>\n",
       "    .dataframe tbody tr th:only-of-type {\n",
       "        vertical-align: middle;\n",
       "    }\n",
       "\n",
       "    .dataframe tbody tr th {\n",
       "        vertical-align: top;\n",
       "    }\n",
       "\n",
       "    .dataframe thead th {\n",
       "        text-align: right;\n",
       "    }\n",
       "</style>\n",
       "<table border=\"1\" class=\"dataframe\">\n",
       "  <thead>\n",
       "    <tr style=\"text-align: right;\">\n",
       "      <th></th>\n",
       "      <th>Year</th>\n",
       "      <th>Distance (km)</th>\n",
       "      <th>Average Speed (km/h)</th>\n",
       "      <th>Climb (m)</th>\n",
       "    </tr>\n",
       "  </thead>\n",
       "  <tbody>\n",
       "    <tr>\n",
       "      <th>count</th>\n",
       "      <td>508.000000</td>\n",
       "      <td>508.000000</td>\n",
       "      <td>508.000000</td>\n",
       "      <td>508.00000</td>\n",
       "    </tr>\n",
       "    <tr>\n",
       "      <th>mean</th>\n",
       "      <td>2015.297244</td>\n",
       "      <td>11.757835</td>\n",
       "      <td>11.341654</td>\n",
       "      <td>128.00000</td>\n",
       "    </tr>\n",
       "    <tr>\n",
       "      <th>std</th>\n",
       "      <td>1.821478</td>\n",
       "      <td>6.209219</td>\n",
       "      <td>2.510516</td>\n",
       "      <td>108.52604</td>\n",
       "    </tr>\n",
       "    <tr>\n",
       "      <th>min</th>\n",
       "      <td>2012.000000</td>\n",
       "      <td>0.760000</td>\n",
       "      <td>1.040000</td>\n",
       "      <td>0.00000</td>\n",
       "    </tr>\n",
       "    <tr>\n",
       "      <th>25%</th>\n",
       "      <td>2014.000000</td>\n",
       "      <td>7.015000</td>\n",
       "      <td>10.470000</td>\n",
       "      <td>53.00000</td>\n",
       "    </tr>\n",
       "    <tr>\n",
       "      <th>50%</th>\n",
       "      <td>2015.000000</td>\n",
       "      <td>11.460000</td>\n",
       "      <td>11.030000</td>\n",
       "      <td>92.00000</td>\n",
       "    </tr>\n",
       "    <tr>\n",
       "      <th>75%</th>\n",
       "      <td>2017.000000</td>\n",
       "      <td>13.642500</td>\n",
       "      <td>11.642500</td>\n",
       "      <td>172.25000</td>\n",
       "    </tr>\n",
       "    <tr>\n",
       "      <th>max</th>\n",
       "      <td>2018.000000</td>\n",
       "      <td>49.180000</td>\n",
       "      <td>24.330000</td>\n",
       "      <td>982.00000</td>\n",
       "    </tr>\n",
       "  </tbody>\n",
       "</table>\n",
       "</div>"
      ],
      "text/plain": [
       "              Year  Distance (km)  Average Speed (km/h)  Climb (m)\n",
       "count   508.000000     508.000000            508.000000  508.00000\n",
       "mean   2015.297244      11.757835             11.341654  128.00000\n",
       "std       1.821478       6.209219              2.510516  108.52604\n",
       "min    2012.000000       0.760000              1.040000    0.00000\n",
       "25%    2014.000000       7.015000             10.470000   53.00000\n",
       "50%    2015.000000      11.460000             11.030000   92.00000\n",
       "75%    2017.000000      13.642500             11.642500  172.25000\n",
       "max    2018.000000      49.180000             24.330000  982.00000"
      ]
     },
     "execution_count": 151,
     "metadata": {},
     "output_type": "execute_result"
    }
   ],
   "source": [
    "cardio_df.drop(columns=['Record Date']).describe()"
   ]
  },
  {
   "cell_type": "markdown",
   "id": "04f915dd-9d7f-47c4-8469-6783e0f54a5b",
   "metadata": {},
   "source": [
    "### Overview of upcoming Analysis Points:"
   ]
  },
  {
   "cell_type": "markdown",
   "id": "7a95797f-8b27-4aee-9127-8cb67f5baade",
   "metadata": {},
   "source": [
    "#### I. General Observations: Activity Frequency Distribution"
   ]
  },
  {
   "cell_type": "markdown",
   "id": "1116ee7a-bbaa-4454-8e10-dc254f06dbe1",
   "metadata": {},
   "source": [
    "    1. Cardio Distribution per Year\n",
    "        - Year with Highest Activity\n",
    "        - Activity Ranking per Year\n",
    "        - Visualization: Activity over the Years\n",
    "\n",
    "    2. Cardio Distribution per Month\n",
    "        - Month with Highest Activity\n",
    "        - Activity Ranking per Month\n",
    "        - Visualization: Activity per Month\n",
    "\n",
    "    3. Cardio Distribution per Weekday\n",
    "        - Weekday with Highest Activity\n",
    "        - Activity Ranking per Weekday\n",
    "        - Visualization: Activity per Weekday\n",
    "\n",
    "    4. Cardio Distribution per Daytime\n",
    "        - Daytime with Highest Activity\n",
    "        - Activity Ranking per Daytime\n",
    "        - Visualization: Activity over the Day\n",
    "\n",
    "    5. Cardio Distribution per Type\n",
    "        - Most Common Activity\n",
    "        - Training Count per Activity Type Ranking\n",
    "        - Visualization: Training Count per Activity Type"
   ]
  },
  {
   "cell_type": "markdown",
   "id": "550253a7-9c9f-4d80-a758-86ac023059eb",
   "metadata": {},
   "source": [
    "#### II. Focused Observations: Running Statistics"
   ]
  },
  {
   "cell_type": "markdown",
   "id": "85f1b01b-07bc-4568-89f6-53b8278d1859",
   "metadata": {},
   "source": [
    "    1. Speed\n",
    "        - Achievements\n",
    "        - Development\n",
    "\n",
    "    2. Distance\n",
    "        - Achievements\n",
    "        - Development\n",
    "\n",
    "    3. Climb\n",
    "        - Achievements\n",
    "        - Development\n",
    "\n",
    "    4. Pace\n",
    "        - Achievements\n",
    "        - Development\n",
    "\n",
    "    5. Duration\n",
    "        - Achievements\n",
    "        - Development    "
   ]
  },
  {
   "cell_type": "markdown",
   "id": "9303da6c-df39-434e-8eee-68e2f5673de9",
   "metadata": {},
   "source": [
    "<br>"
   ]
  },
  {
   "cell_type": "markdown",
   "id": "6401d9c7-c63d-42d3-9057-f55edf65fedd",
   "metadata": {},
   "source": [
    "### I. General Observations: Activity Frequency Distribution"
   ]
  },
  {
   "cell_type": "markdown",
   "id": "4afb6f1d-74dd-4fb4-aa97-42508ee873f1",
   "metadata": {},
   "source": [
    "#### 1. Cardio Distribution per Year"
   ]
  },
  {
   "cell_type": "markdown",
   "id": "9864bcaa-187d-407f-8a38-6acdc93fcd7c",
   "metadata": {},
   "source": [
    "**Year with Highest Acitivity:**"
   ]
  },
  {
   "cell_type": "code",
   "execution_count": 153,
   "id": "23f25c7e-d607-460e-8f1c-4a4f4e86b33b",
   "metadata": {},
   "outputs": [
    {
     "name": "stdout",
     "output_type": "stream",
     "text": [
      "2015: 92 Activities\n"
     ]
    }
   ],
   "source": [
    "print(f\"{cardio_df['Year'].mode()[0]}: {cardio_df[cardio_df['Year'] == cardio_df['Year'].mode()[0]].count()[0]} Activities\")"
   ]
  },
  {
   "cell_type": "markdown",
   "id": "f35cade8-a2f6-4eb8-9789-3bcd93142149",
   "metadata": {},
   "source": [
    "**Activity per Year Ranking:**"
   ]
  },
  {
   "cell_type": "code",
   "execution_count": 154,
   "id": "2306f142-d4de-4b12-b55f-171c0cf16846",
   "metadata": {},
   "outputs": [],
   "source": [
    "yearly_activity = cardio_df.groupby('Year')['Year'].count()"
   ]
  },
  {
   "cell_type": "code",
   "execution_count": 155,
   "id": "29619b5a-fe98-4e01-847b-c118ac8cd721",
   "metadata": {},
   "outputs": [
    {
     "data": {
      "text/plain": [
       "Year\n",
       "2015    92\n",
       "2017    88\n",
       "2016    79\n",
       "2013    77\n",
       "2018    71\n",
       "2014    70\n",
       "2012    31\n",
       "Name: Year, dtype: int64"
      ]
     },
     "execution_count": 155,
     "metadata": {},
     "output_type": "execute_result"
    }
   ],
   "source": [
    "yearly_activity.sort_values(ascending=False)"
   ]
  },
  {
   "cell_type": "markdown",
   "id": "53327969-f2d4-4731-8729-6d2177609677",
   "metadata": {},
   "source": [
    "**Visualization - Activity over the Years:**"
   ]
  },
  {
   "cell_type": "code",
   "execution_count": 158,
   "id": "62cd704c-55a9-4e94-8f4b-f50a8e96218d",
   "metadata": {},
   "outputs": [
    {
     "data": {
      "text/plain": [
       "<Axes: title={'center': 'Yearly Activity'}, xlabel='Year', ylabel='Activity Count'>"
      ]
     },
     "execution_count": 158,
     "metadata": {},
     "output_type": "execute_result"
    },
    {
     "data": {
      "image/png": "[encoded data removed]",
      "text/plain": [
       "<Figure size 640x480 with 1 Axes>"
      ]
     },
     "metadata": {},
     "output_type": "display_data"
    }
   ],
   "source": [
    "yearly_activity.plot(kind='line', x='Year', y=yearly_activity, title='Yearly Activity', xlabel='Year', ylabel='Activity Count', ylim=(20,100))"
   ]
  },
  {
   "cell_type": "markdown",
   "id": "d4c5de99-886f-4033-aa5f-b5921f923564",
   "metadata": {},
   "source": [
    "<br>"
   ]
  },
  {
   "cell_type": "markdown",
   "id": "6c83ddb9-76c3-4df0-a7ac-771433c1c023",
   "metadata": {},
   "source": [
    "#### 2. Cardio Distribution per Month"
   ]
  },
  {
   "cell_type": "markdown",
   "id": "34443676-b68e-4733-add6-49a4c36663d7",
   "metadata": {},
   "source": [
    "**Month with Highest Activity:**"
   ]
  },
  {
   "cell_type": "code",
   "execution_count": 159,
   "id": "5d02ef4c-730a-45b4-b050-183e4f4e6ed4",
   "metadata": {},
   "outputs": [
    {
     "name": "stdout",
     "output_type": "stream",
     "text": [
      "August: 58 Activities\n"
     ]
    }
   ],
   "source": [
    "print(f\"{cardio_df['Month'].mode()[0]}: {cardio_df[cardio_df['Month'] == cardio_df['Month'].mode()[0]].count()[0]} Activities\")"
   ]
  },
  {
   "cell_type": "markdown",
   "id": "f75ef068-293a-44b2-befa-0652157b9609",
   "metadata": {},
   "source": [
    "**Activity per Month Rating:**"
   ]
  },
  {
   "cell_type": "code",
   "execution_count": 160,
   "id": "550cf73a-d3d1-45e2-856e-1660be8dc81b",
   "metadata": {
    "scrolled": true
   },
   "outputs": [],
   "source": [
    "monthly_activity = cardio_df.groupby('Month')['Month'].count()"
   ]
  },
  {
   "cell_type": "code",
   "execution_count": 161,
   "id": "d8ab681d-d637-4c23-9c58-2a98f7cd9b88",
   "metadata": {},
   "outputs": [
    {
     "data": {
      "text/plain": [
       "Month\n",
       "August       58\n",
       "May          54\n",
       "July         51\n",
       "June         50\n",
       "September    50\n",
       "April        47\n",
       "October      40\n",
       "February     35\n",
       "November     34\n",
       "March        31\n",
       "December     29\n",
       "January      29\n",
       "Name: Month, dtype: int64"
      ]
     },
     "execution_count": 161,
     "metadata": {},
     "output_type": "execute_result"
    }
   ],
   "source": [
    "monthly_activity.sort_values(ascending=False)"
   ]
  },
  {
   "cell_type": "markdown",
   "id": "3ade8fcb-5f4a-4324-9deb-ee4c982b565c",
   "metadata": {},
   "source": [
    "**Visualization - Activity per Month:**"
   ]
  },
  {
   "cell_type": "code",
   "execution_count": 162,
   "id": "6fa65b7b-215e-4a80-9901-7595e0e138cd",
   "metadata": {},
   "outputs": [],
   "source": [
    "# Because of the earlier decision during data cleanup to give the columns distinctive and easily understandable names, \n",
    "# the months can now not be automatically sorted in accordance with their timely occurence during a year.\n",
    "# For visualization purposes the monthly activity will be first sorted within a dictionary and then transformed into a \n",
    "# pandas Series object from which a plot can be derived."
   ]
  },
  {
   "cell_type": "code",
   "execution_count": 163,
   "id": "78c54a93-b063-434b-9f9b-dc6097602744",
   "metadata": {},
   "outputs": [
    {
     "data": {
      "text/plain": [
       "January      29\n",
       "February     35\n",
       "March        31\n",
       "April        47\n",
       "May          54\n",
       "June         50\n",
       "July         51\n",
       "August       58\n",
       "September    50\n",
       "October      40\n",
       "November     34\n",
       "December     29\n",
       "dtype: int64"
      ]
     },
     "execution_count": 163,
     "metadata": {},
     "output_type": "execute_result"
    }
   ],
   "source": [
    "monthly_activity_dict = monthly_activity.to_dict()\n",
    "ordered_months = list(calendar.month_name)[1:]\n",
    "\n",
    "sorted_monthly_activity_dict = {}\n",
    "for month in ordered_months:\n",
    "    sorted_monthly_activity_dict[month]= monthly_activity_dict[month]\n",
    "sorted_monthly_activity = pd.Series(sorted_monthly_activity_dict)\n",
    "sorted_monthly_activity"
   ]
  },
  {
   "cell_type": "code",
   "execution_count": 203,
   "id": "3ed50faa-fba7-422b-9537-45eba9ff4766",
   "metadata": {},
   "outputs": [
    {
     "data": {
      "image/png": "[encoded data removed]",
      "text/plain": [
       "<Figure size 640x480 with 1 Axes>"
      ]
     },
     "metadata": {},
     "output_type": "display_data"
    }
   ],
   "source": [
    "month_plot = sorted_monthly_activity.plot(kind='barh', title='Monthly Activity', xlabel='Activity Count', ylabel='Month')\n",
    "month_plot.invert_yaxis()"
   ]
  },
  {
   "cell_type": "markdown",
   "id": "7d9de0d3-11a8-4416-8805-e95e638fbb7a",
   "metadata": {},
   "source": [
    "<br>"
   ]
  },
  {
   "cell_type": "markdown",
   "id": "c2469bf8-b050-4447-b71a-f3424038b14d",
   "metadata": {},
   "source": [
    "#### 3. Cardio Distribution per Weekday"
   ]
  },
  {
   "cell_type": "markdown",
   "id": "b0f9e6bc-3edc-4856-a78d-855e12639f08",
   "metadata": {},
   "source": [
    "**Weekday with Highest Activity:**"
   ]
  },
  {
   "cell_type": "code",
   "execution_count": 165,
   "id": "02ce09d2-7ea5-417c-91fb-61bc43d97dff",
   "metadata": {},
   "outputs": [
    {
     "name": "stdout",
     "output_type": "stream",
     "text": [
      "Monday: 95 Activities\n"
     ]
    }
   ],
   "source": [
    "print(f\"{cardio_df['Weekday'].mode()[0]}: {cardio_df[cardio_df['Weekday'] == cardio_df['Weekday'].mode()[0]].count()[0]} Activities\")"
   ]
  },
  {
   "cell_type": "markdown",
   "id": "78676d0f-32d4-4f00-98cc-e1022a9da549",
   "metadata": {},
   "source": [
    "**Activity per Weekday Ranking:**"
   ]
  },
  {
   "cell_type": "code",
   "execution_count": 166,
   "id": "60ca14e6-b92c-43e0-8948-855e365d619f",
   "metadata": {},
   "outputs": [],
   "source": [
    "weekly_activity = cardio_df.groupby('Weekday')['Weekday'].count()"
   ]
  },
  {
   "cell_type": "code",
   "execution_count": 167,
   "id": "df154cf2-d314-4059-8e9f-c7114cba524f",
   "metadata": {},
   "outputs": [
    {
     "data": {
      "text/plain": [
       "Weekday\n",
       "Monday       95\n",
       "Wednesday    86\n",
       "Sunday       81\n",
       "Thursday     81\n",
       "Saturday     66\n",
       "Tuesday      64\n",
       "Friday       35\n",
       "Name: Weekday, dtype: int64"
      ]
     },
     "execution_count": 167,
     "metadata": {},
     "output_type": "execute_result"
    }
   ],
   "source": [
    "weekly_activity.sort_values(ascending=False)"
   ]
  },
  {
   "cell_type": "markdown",
   "id": "832082d8-0fea-49f3-b0fc-5f9724e210ac",
   "metadata": {},
   "source": [
    "**Visualization - Activity per Weekday:**"
   ]
  },
  {
   "cell_type": "code",
   "execution_count": 168,
   "id": "e78f2a2a-1b8f-4fe4-ae75-93d4947bf7ca",
   "metadata": {},
   "outputs": [],
   "source": [
    "# Because of the earlier decision during data cleanup to give the columns distinctive and easily understandable names, \n",
    "# the weekdays can now not be automatically sorted in accordance with their timely occurence during the week.\n",
    "# For visualization purposes the weekly activity will be first sorted within a dictionary and then transformed into a \n",
    "# pandas Series object from which a plot can be derived."
   ]
  },
  {
   "cell_type": "code",
   "execution_count": 169,
   "id": "5327ee96-cce0-4764-920f-d94a0c99739f",
   "metadata": {},
   "outputs": [
    {
     "data": {
      "text/plain": [
       "Monday       95\n",
       "Tuesday      64\n",
       "Wednesday    86\n",
       "Thursday     81\n",
       "Friday       35\n",
       "Saturday     66\n",
       "Sunday       81\n",
       "dtype: int64"
      ]
     },
     "execution_count": 169,
     "metadata": {},
     "output_type": "execute_result"
    }
   ],
   "source": [
    "weekly_activity_dict = weekly_activity.to_dict()\n",
    "ordered_weekdays = list(calendar.day_name)\n",
    "\n",
    "sorted_weekly_activity_dict = {}\n",
    "for day in ordered_weekdays:\n",
    "    sorted_weekly_activity_dict[day]= weekly_activity_dict[day]\n",
    "sorted_weekly_activity = pd.Series(sorted_weekly_activity_dict)\n",
    "sorted_weekly_activity"
   ]
  },
  {
   "cell_type": "code",
   "execution_count": 170,
   "id": "42663709-a074-4331-b3f3-141b59f19439",
   "metadata": {},
   "outputs": [
    {
     "data": {
      "image/png": "[encoded data removed]",
      "text/plain": [
       "<Figure size 640x480 with 1 Axes>"
      ]
     },
     "metadata": {},
     "output_type": "display_data"
    }
   ],
   "source": [
    "week_plot = sorted_weekly_activity.plot(kind='barh', title='Weekly Activity', xlabel='Activity Count', ylabel='Weekday')\n",
    "week_plot.invert_yaxis()"
   ]
  },
  {
   "cell_type": "markdown",
   "id": "b709da88-0bd1-41ab-bd1b-286dde13a7d8",
   "metadata": {},
   "source": [
    "<br>"
   ]
  },
  {
   "cell_type": "markdown",
   "id": "5f2ce265-dac1-424d-8125-ca56e27eac33",
   "metadata": {},
   "source": [
    "#### 4. Cardio Distribution per Daytime"
   ]
  },
  {
   "cell_type": "markdown",
   "id": "d0edd59c-fede-46b0-875b-09ef8414cfd9",
   "metadata": {},
   "source": [
    "**Daytime with Highest Activity:**"
   ]
  },
  {
   "cell_type": "code",
   "execution_count": 171,
   "id": "42c306e2-2a45-446b-aef1-0d916658efe5",
   "metadata": {},
   "outputs": [
    {
     "name": "stdout",
     "output_type": "stream",
     "text": [
      "Evening: 310 Activities\n"
     ]
    }
   ],
   "source": [
    "print(f\"{cardio_df['Daytime'].mode()[0]}: {cardio_df[cardio_df['Daytime'] == cardio_df['Daytime'].mode()[0]].count()[0]} Activities\")"
   ]
  },
  {
   "cell_type": "markdown",
   "id": "bc2e3641-7d8b-4907-a492-4059ec0f082d",
   "metadata": {},
   "source": [
    "**Activity per Daytime Ranking:**"
   ]
  },
  {
   "cell_type": "code",
   "execution_count": 172,
   "id": "7dbc4f79-724b-4926-a4c2-5f0700b9af95",
   "metadata": {},
   "outputs": [],
   "source": [
    "daytime_activity = cardio_df.groupby('Daytime')['Daytime'].count()"
   ]
  },
  {
   "cell_type": "code",
   "execution_count": 173,
   "id": "367700eb-667c-4b0c-9b4d-051481e89cd8",
   "metadata": {},
   "outputs": [
    {
     "data": {
      "text/plain": [
       "Daytime\n",
       "Evening      310\n",
       "Afternoon    103\n",
       "Morning       77\n",
       "Noon          16\n",
       "Night          2\n",
       "Name: Daytime, dtype: int64"
      ]
     },
     "execution_count": 173,
     "metadata": {},
     "output_type": "execute_result"
    }
   ],
   "source": [
    "daytime_activity.sort_values(ascending=False)"
   ]
  },
  {
   "cell_type": "markdown",
   "id": "9fa742a8-da1f-436e-974e-dd41f5596880",
   "metadata": {},
   "source": [
    "**Visualization - Activity over the Day:**"
   ]
  },
  {
   "cell_type": "code",
   "execution_count": 174,
   "id": "f2b8e3ce-8d71-452e-81bb-e7f3f950d20b",
   "metadata": {},
   "outputs": [],
   "source": [
    "# Because of the earlier decision during data cleanup to give the columns distinctive and easily understandable names, \n",
    "# the daytimes can now not be automatically sorted in accordance with their timely occurence during the day.\n",
    "# For visualization purposes the daytime activity will be first sorted within a dictionary and then transformed into a \n",
    "# pandas Series object from which a plot can be derived."
   ]
  },
  {
   "cell_type": "code",
   "execution_count": 175,
   "id": "4421884b-dfe8-499a-8df6-289f5cf11de8",
   "metadata": {},
   "outputs": [
    {
     "data": {
      "text/plain": [
       "Morning       77\n",
       "Noon          16\n",
       "Afternoon    103\n",
       "Evening      310\n",
       "Night          2\n",
       "dtype: int64"
      ]
     },
     "execution_count": 175,
     "metadata": {},
     "output_type": "execute_result"
    }
   ],
   "source": [
    "daytime_activity_dict = daytime_activity.to_dict()\n",
    "ordered_daytimes = ['Morning', 'Noon', 'Afternoon', 'Evening', 'Night']\n",
    "\n",
    "sorted_daytime_activity_dict = {}\n",
    "for daytime in ordered_daytimes:\n",
    "    sorted_daytime_activity_dict[daytime]= daytime_activity_dict[daytime]\n",
    "sorted_daytime_activity = pd.Series(sorted_daytime_activity_dict)\n",
    "sorted_daytime_activity"
   ]
  },
  {
   "cell_type": "code",
   "execution_count": 176,
   "id": "b8e8f00c-6318-4e87-ad8b-342b59c2c51e",
   "metadata": {},
   "outputs": [
    {
     "data": {
      "image/png": "[encoded data removed]",
      "text/plain": [
       "<Figure size 640x480 with 1 Axes>"
      ]
     },
     "metadata": {},
     "output_type": "display_data"
    }
   ],
   "source": [
    "daytime_plot = sorted_daytime_activity.plot(kind='barh', title='Daytime Activity', xlabel='Activity Count', ylabel='Daytime')\n",
    "daytime_plot.invert_yaxis()"
   ]
  },
  {
   "cell_type": "markdown",
   "id": "9e1267ff-29f1-4775-bff4-a6e9ab881f17",
   "metadata": {},
   "source": [
    "<br>"
   ]
  },
  {
   "cell_type": "markdown",
   "id": "8905006b-d6f2-4625-98ab-9d435258bf62",
   "metadata": {},
   "source": [
    "#### 5. Cardio Distribution per Type"
   ]
  },
  {
   "cell_type": "markdown",
   "id": "656374dc-f20b-4023-a186-1e017fd2a7fd",
   "metadata": {},
   "source": [
    "**Most Common Activity:**"
   ]
  },
  {
   "cell_type": "code",
   "execution_count": 177,
   "id": "1ab5fb7a-636c-4959-9270-f7a6bef8ae62",
   "metadata": {},
   "outputs": [
    {
     "name": "stdout",
     "output_type": "stream",
     "text": [
      "Running: 459 Trainings\n"
     ]
    }
   ],
   "source": [
    "print(f\"{cardio_df['Type'].mode()[0]}: {cardio_df[cardio_df['Type'] == cardio_df['Type'].mode()[0]].count()[0]} Trainings\")"
   ]
  },
  {
   "cell_type": "markdown",
   "id": "1f58d919-8160-4b23-bea8-521fc288a2fb",
   "metadata": {},
   "source": [
    "**Training Count per Activity Type Ranking:**"
   ]
  },
  {
   "cell_type": "code",
   "execution_count": 178,
   "id": "208d535c-5ee5-4206-8e85-f0764f979742",
   "metadata": {},
   "outputs": [],
   "source": [
    "type_activity = cardio_df.groupby('Type')['Type'].count()"
   ]
  },
  {
   "cell_type": "code",
   "execution_count": 179,
   "id": "d6be7fc7-7995-4cac-83ea-bc31d6e37c3c",
   "metadata": {},
   "outputs": [
    {
     "data": {
      "text/plain": [
       "Type\n",
       "Running    459\n",
       "Cycling     29\n",
       "Walking     18\n",
       "Other        2\n",
       "Name: Type, dtype: int64"
      ]
     },
     "execution_count": 179,
     "metadata": {},
     "output_type": "execute_result"
    }
   ],
   "source": [
    "type_activity.sort_values(ascending=False)"
   ]
  },
  {
   "cell_type": "markdown",
   "id": "8ec43cd9-9737-432c-bbe6-596d2ae1ef60",
   "metadata": {},
   "source": [
    "**Visualization - Training Count per Type:**"
   ]
  },
  {
   "cell_type": "code",
   "execution_count": 180,
   "id": "ac58c51b-f540-46ee-96ae-10818828a497",
   "metadata": {},
   "outputs": [
    {
     "data": {
      "text/plain": [
       "<Axes: title={'center': 'Training per Activity Type'}>"
      ]
     },
     "execution_count": 180,
     "metadata": {},
     "output_type": "execute_result"
    },
    {
     "data": {
      "image/png": "[encoded data removed]",
      "text/plain": [
       "<Figure size 640x480 with 1 Axes>"
      ]
     },
     "metadata": {},
     "output_type": "display_data"
    }
   ],
   "source": [
    "type_activity.plot.pie(title='Training per Activity Type', ylabel=\"\")"
   ]
  },
  {
   "cell_type": "markdown",
   "id": "c0864d57-0924-4d6a-ad91-e19fa3f0a505",
   "metadata": {},
   "source": [
    "<br>"
   ]
  },
  {
   "cell_type": "markdown",
   "id": "4f4e4d8f-4054-4908-bae6-32aa8b981e00",
   "metadata": {},
   "source": [
    "### II. Focused Observations: Running Statistics"
   ]
  },
  {
   "cell_type": "markdown",
   "id": "703bc2d6-69f2-4841-b82d-83da4ed97667",
   "metadata": {},
   "source": [
    "Since the previous analysis has shown the user's preference for running as their main cardio activity, the following analysis focuses on the user's specific running statistics."
   ]
  },
  {
   "cell_type": "markdown",
   "id": "fdf4384f-b56f-479a-bc93-74f4e59f4742",
   "metadata": {},
   "source": [
    "#### 1. Speed"
   ]
  },
  {
   "cell_type": "markdown",
   "id": "346c0558-55fb-4594-8339-fba8e6c0c5d8",
   "metadata": {},
   "source": [
    "##### **Achievements:**"
   ]
  },
  {
   "cell_type": "code",
   "execution_count": 181,
   "id": "f0165958-75d8-4a40-9ce1-baebf84c42e7",
   "metadata": {},
   "outputs": [
    {
     "name": "stdout",
     "output_type": "stream",
     "text": [
      "Average Speed: 11.06 km/h \n",
      " Top Speed: 20.72 km/h \n",
      " Min Speed: 5.77 km/h\n"
     ]
    }
   ],
   "source": [
    "print(\n",
    "    f\"Average Speed: {running['Average Speed (km/h)'].mean().round(2)} km/h \\n\",\n",
    "    f\"Top Speed: {running['Average Speed (km/h)'].max()} km/h \\n\",\n",
    "    f\"Min Speed: {running['Average Speed (km/h)'].min()} km/h\"\n",
    ")"
   ]
  },
  {
   "cell_type": "markdown",
   "id": "30304210-3932-4a6d-917e-11714e6891d7",
   "metadata": {},
   "source": [
    "##### **Development:**"
   ]
  },
  {
   "cell_type": "code",
   "execution_count": 182,
   "id": "9a7d9f55-db58-43d1-96fb-c3c6266006f3",
   "metadata": {},
   "outputs": [
    {
     "data": {
      "text/plain": [
       "Year\n",
       "2012    10.67\n",
       "2013    11.40\n",
       "2014    11.52\n",
       "2015    11.00\n",
       "2016    10.84\n",
       "2017    10.96\n",
       "2018    10.78\n",
       "Name: Average Speed (km/h), dtype: float64"
      ]
     },
     "execution_count": 182,
     "metadata": {},
     "output_type": "execute_result"
    }
   ],
   "source": [
    "speed_per_year = running.groupby('Year')['Average Speed (km/h)'].mean().round(2)\n",
    "speed_per_year"
   ]
  },
  {
   "cell_type": "code",
   "execution_count": 183,
   "id": "f3a893ce-6d03-4d33-99e3-7b976d73f67c",
   "metadata": {},
   "outputs": [
    {
     "data": {
      "text/plain": [
       "<Axes: title={'center': 'Speed Development over the Years'}, xlabel='Year', ylabel='Average Speed (km/h)'>"
      ]
     },
     "execution_count": 183,
     "metadata": {},
     "output_type": "execute_result"
    },
    {
     "data": {
      "image/png": "[encoded data removed]",
      "text/plain": [
       "<Figure size 640x480 with 1 Axes>"
      ]
     },
     "metadata": {},
     "output_type": "display_data"
    }
   ],
   "source": [
    "speed_per_year.plot.line(title='Speed Development over the Years', ylabel='Average Speed (km/h)', ylim=(10,12))"
   ]
  },
  {
   "cell_type": "markdown",
   "id": "a74c2aea-ad50-4d45-b2d6-04e37a01e1b7",
   "metadata": {},
   "source": [
    "<br>"
   ]
  },
  {
   "cell_type": "markdown",
   "id": "b60fe879-855f-43f9-8f4b-869a34dad278",
   "metadata": {},
   "source": [
    "#### 2. Distance"
   ]
  },
  {
   "cell_type": "markdown",
   "id": "4fd8155f-7fe3-4c60-b955-fff319a3d191",
   "metadata": {},
   "source": [
    "##### **Achievements:**"
   ]
  },
  {
   "cell_type": "code",
   "execution_count": 184,
   "id": "94e0afc6-fd83-4085-9272-a342b2fe9307",
   "metadata": {},
   "outputs": [
    {
     "name": "stdout",
     "output_type": "stream",
     "text": [
      "Average Distance: 11.38 km \n",
      " Top Distance: 38.32 km \n",
      " Min Distance: 0.76 km \n",
      "\n",
      " Total Distance: 5224.5 km\n"
     ]
    }
   ],
   "source": [
    "print(\n",
    "    f\"Average Distance: {running['Distance (km)'].mean().round(2)} km \\n\",\n",
    "    f\"Top Distance: {running['Distance (km)'].max()} km \\n\",\n",
    "    f\"Min Distance: {running['Distance (km)'].min()} km \\n\\n\",\n",
    "    f\"Total Distance: {running['Distance (km)'].sum()} km\"\n",
    ")"
   ]
  },
  {
   "cell_type": "markdown",
   "id": "459290a5-83c6-43bb-baba-b08a36510e06",
   "metadata": {},
   "source": [
    "##### **Development:**"
   ]
  },
  {
   "cell_type": "code",
   "execution_count": 185,
   "id": "b350d04d-47e5-4d23-909b-884eff79e166",
   "metadata": {
    "scrolled": true
   },
   "outputs": [
    {
     "data": {
      "text/plain": [
       "Year\n",
       "2012     3.82\n",
       "2013     7.55\n",
       "2014    10.95\n",
       "2015    13.60\n",
       "2016    11.41\n",
       "2017    12.94\n",
       "2018    13.34\n",
       "Name: Distance (km), dtype: float64"
      ]
     },
     "execution_count": 185,
     "metadata": {},
     "output_type": "execute_result"
    }
   ],
   "source": [
    "distance_per_year = running.groupby('Year')['Distance (km)'].mean().round(2)\n",
    "distance_per_year"
   ]
  },
  {
   "cell_type": "code",
   "execution_count": 186,
   "id": "815c4bac-ff2f-4b1e-bb21-8f5c255ef81e",
   "metadata": {},
   "outputs": [
    {
     "data": {
      "text/plain": [
       "<Axes: title={'center': 'Distance Development over the Years'}, xlabel='Year', ylabel='Average Distance (km)'>"
      ]
     },
     "execution_count": 186,
     "metadata": {},
     "output_type": "execute_result"
    },
    {
     "data": {
      "image/png": "[encoded data removed]",
      "text/plain": [
       "<Figure size 640x480 with 1 Axes>"
      ]
     },
     "metadata": {},
     "output_type": "display_data"
    }
   ],
   "source": [
    "distance_per_year.plot.line(title='Distance Development over the Years', xlabel='Year', ylabel='Average Distance (km)', ylim=(0,16))"
   ]
  },
  {
   "cell_type": "markdown",
   "id": "2c7d79fa-7bca-4da0-8ed2-46470c4f010b",
   "metadata": {},
   "source": [
    "<br>"
   ]
  },
  {
   "cell_type": "markdown",
   "id": "84bfd93f-8c90-4b1d-b368-23fa4c90600c",
   "metadata": {},
   "source": [
    "#### 3. Climb"
   ]
  },
  {
   "cell_type": "markdown",
   "id": "44253f91-e3fa-418c-8402-393d08c04046",
   "metadata": {},
   "source": [
    "##### **Achievements:**"
   ]
  },
  {
   "cell_type": "code",
   "execution_count": 187,
   "id": "6ea05851-cdfc-447a-baf5-31df116c4bff",
   "metadata": {},
   "outputs": [
    {
     "name": "stdout",
     "output_type": "stream",
     "text": [
      "Average Climb: 124.79 m \n",
      " Top Climb: 982 m \n",
      " Min Climb: 0 m \n",
      "\n",
      " Total Climb: 57278 m\n"
     ]
    }
   ],
   "source": [
    "print(\n",
    "    f\"Average Climb: {running['Climb (m)'].mean().round(2)} m \\n\",\n",
    "    f\"Top Climb: {running['Climb (m)'].max()} m \\n\",\n",
    "    f\"Min Climb: {running['Climb (m)'].min()} m \\n\\n\",\n",
    "    f\"Total Climb: {running['Climb (m)'].sum()} m\"\n",
    ")"
   ]
  },
  {
   "cell_type": "markdown",
   "id": "1b1728d4-97e2-4943-8ce1-7330471b4f69",
   "metadata": {},
   "source": [
    "##### **Development:**"
   ]
  },
  {
   "cell_type": "code",
   "execution_count": 188,
   "id": "e8743bc1-0e4f-4c96-854e-058e522eb2d6",
   "metadata": {
    "scrolled": true
   },
   "outputs": [
    {
     "data": {
      "text/plain": [
       "Year\n",
       "2012     20.67\n",
       "2013     45.17\n",
       "2014     65.28\n",
       "2015    160.17\n",
       "2016    133.19\n",
       "2017    169.38\n",
       "2018    191.22\n",
       "Name: Climb (m), dtype: float64"
      ]
     },
     "execution_count": 188,
     "metadata": {},
     "output_type": "execute_result"
    }
   ],
   "source": [
    "climb_per_year = running.groupby('Year')['Climb (m)'].mean().round(2)\n",
    "climb_per_year"
   ]
  },
  {
   "cell_type": "code",
   "execution_count": 189,
   "id": "b59a78b7-5961-466d-808b-0830420a71cc",
   "metadata": {},
   "outputs": [
    {
     "data": {
      "text/plain": [
       "<Axes: title={'center': 'Climb Development over the Years'}, xlabel='Year', ylabel='Climb (m)'>"
      ]
     },
     "execution_count": 189,
     "metadata": {},
     "output_type": "execute_result"
    },
    {
     "data": {
      "image/png": "[encoded data removed]",
      "text/plain": [
       "<Figure size 640x480 with 1 Axes>"
      ]
     },
     "metadata": {},
     "output_type": "display_data"
    }
   ],
   "source": [
    "climb_per_year.plot.line(title='Climb Development over the Years', xlabel='Year', ylabel='Climb (m)', ylim=(0,225))"
   ]
  },
  {
   "cell_type": "markdown",
   "id": "0523e9e2-7001-4885-a4d1-4341d8391062",
   "metadata": {},
   "source": [
    "<br>"
   ]
  },
  {
   "cell_type": "markdown",
   "id": "eeaab47a-43a9-4bc7-b28a-7b7cafcfd843",
   "metadata": {},
   "source": [
    "#### 4. Pace"
   ]
  },
  {
   "cell_type": "markdown",
   "id": "4eac3dc2-7d43-4842-b7e6-939ea2342644",
   "metadata": {},
   "source": [
    "##### **Achievements:**"
   ]
  },
  {
   "cell_type": "code",
   "execution_count": 190,
   "id": "52113e5b-536c-4913-8f8b-ec8fda7b821f",
   "metadata": {},
   "outputs": [
    {
     "data": {
      "text/plain": [
       "0      5:37\n",
       "1      5:47\n",
       "2      5:47\n",
       "3      5:44\n",
       "4      5:36\n",
       "       ... \n",
       "494    4:52\n",
       "495    5:12\n",
       "498    5:11\n",
       "506    5:05\n",
       "507    5:29\n",
       "Name: Average Pace, Length: 459, dtype: object"
      ]
     },
     "execution_count": 190,
     "metadata": {},
     "output_type": "execute_result"
    }
   ],
   "source": [
    "# Problem is that column values are expressed as Python objects (str) and cannot be aggregated like this\n",
    "running['Average Pace']"
   ]
  },
  {
   "cell_type": "code",
   "execution_count": 191,
   "id": "e0eea8f0-6e54-4578-8c67-432feb2d4739",
   "metadata": {},
   "outputs": [],
   "source": [
    "# Function to express string values as integers\n",
    "def str_to_sec(time_str):\n",
    "    time_tuple = time_str.split(':')\n",
    "    if len(time_tuple) > 2:\n",
    "        return (int(time_tuple[0])*3600 + int(time_tuple[1])*60 + int(time_tuple[2]))\n",
    "    else:\n",
    "        return (int(time_tuple[0])*60 + int(time_tuple[1]))"
   ]
  },
  {
   "cell_type": "code",
   "execution_count": 192,
   "id": "55d41c65-3b1b-4053-ac5d-2976561539de",
   "metadata": {},
   "outputs": [],
   "source": [
    "pace = running['Average Pace']\n",
    "\n",
    "pace_seconds = np.vectorize(str_to_sec)\n",
    "\n",
    "pace_mean = int(pace_seconds(pace).mean())\n",
    "pace_max = int(pace_seconds(pace).max())\n",
    "pace_min = int(pace_seconds(pace).min())"
   ]
  },
  {
   "cell_type": "code",
   "execution_count": 193,
   "id": "b27b7d7d-8046-4396-892b-ad6af3534d22",
   "metadata": {},
   "outputs": [
    {
     "name": "stdout",
     "output_type": "stream",
     "text": [
      "Average Pace: 5.45 minutes \n",
      " Fastest Pace: 2.9 minutes \n",
      " Slowest Pace: 10.4 minutes\n"
     ]
    }
   ],
   "source": [
    "print(\n",
    "    f\"Average Pace: {pace_mean/60} minutes \\n\",\n",
    "    f\"Fastest Pace: {pace_min/60} minutes \\n\",\n",
    "    f\"Slowest Pace: {pace_max/60} minutes\"\n",
    ")"
   ]
  },
  {
   "cell_type": "markdown",
   "id": "c8768788-1a6a-4842-96ca-e2632824aa9a",
   "metadata": {},
   "source": [
    "##### **Development:**"
   ]
  },
  {
   "cell_type": "code",
   "execution_count": 194,
   "id": "067a15e4-3034-426d-9101-8cebbde8a722",
   "metadata": {},
   "outputs": [
    {
     "data": {
      "text/plain": [
       "2012    5.75\n",
       "2013    5.33\n",
       "2014    5.22\n",
       "2015    5.48\n",
       "2016    5.55\n",
       "2017    5.48\n",
       "2018    5.58\n",
       "dtype: float64"
      ]
     },
     "execution_count": 194,
     "metadata": {},
     "output_type": "execute_result"
    }
   ],
   "source": [
    "activity_years = sorted(list(running['Year'].unique()))\n",
    "pace_dict = {year: round(int(pace_seconds(running.loc[(running['Year'] == year)]['Average Pace']).mean())/60, 2) for year in activity_years}\n",
    "pace_dev = pd.Series(pace_dict)\n",
    "pace_dev"
   ]
  },
  {
   "cell_type": "code",
   "execution_count": 195,
   "id": "1ace2d33-a94c-41c6-90ec-595b6244d8ad",
   "metadata": {},
   "outputs": [
    {
     "data": {
      "text/plain": [
       "<Axes: title={'center': 'Pace Development over the Years'}, xlabel='Year', ylabel='Pace (min)'>"
      ]
     },
     "execution_count": 195,
     "metadata": {},
     "output_type": "execute_result"
    },
    {
     "data": {
      "image/png": "[encoded data removed]",
      "text/plain": [
       "<Figure size 640x480 with 1 Axes>"
      ]
     },
     "metadata": {},
     "output_type": "display_data"
    }
   ],
   "source": [
    "pace_dev.plot.line(title='Pace Development over the Years', xlabel='Year', ylabel='Pace (min)', ylim=(5,6))"
   ]
  },
  {
   "cell_type": "markdown",
   "id": "7b01b755-c9c6-45fc-aa05-6f8bf92eb6c3",
   "metadata": {},
   "source": [
    "<br>"
   ]
  },
  {
   "cell_type": "markdown",
   "id": "bb08cadc-749c-426a-a31d-09dc87f7d81a",
   "metadata": {},
   "source": [
    "#### 5. Duration"
   ]
  },
  {
   "cell_type": "markdown",
   "id": "bec51e6f-847e-4024-8c9c-7d2ce9c77501",
   "metadata": {},
   "source": [
    "##### **Achievements:**"
   ]
  },
  {
   "cell_type": "code",
   "execution_count": 196,
   "id": "866fc067-87b5-4f27-91a8-058c75899c67",
   "metadata": {},
   "outputs": [
    {
     "data": {
      "text/plain": [
       "0        58:40\n",
       "1      1:14:12\n",
       "2      1:15:16\n",
       "3      1:14:25\n",
       "4      1:12:50\n",
       "        ...   \n",
       "494      15:55\n",
       "495      32:35\n",
       "498      16:16\n",
       "506      16:00\n",
       "507      31:08\n",
       "Name: Duration, Length: 459, dtype: object"
      ]
     },
     "execution_count": 196,
     "metadata": {},
     "output_type": "execute_result"
    }
   ],
   "source": [
    "# Same issue like Pace\n",
    "running['Duration']"
   ]
  },
  {
   "cell_type": "code",
   "execution_count": 197,
   "id": "0b4340c7-1eb9-4a4c-b01b-283392bad23b",
   "metadata": {},
   "outputs": [],
   "source": [
    "# Function to express string values as integers\n",
    "def str_to_sec(time_str):\n",
    "    time_tuple = time_str.split(':')\n",
    "    if len(time_tuple) > 2:\n",
    "        return (int(time_tuple[0])*3600 + int(time_tuple[1])*60 + int(time_tuple[2]))\n",
    "    else:\n",
    "        return (int(time_tuple[0])*60 + int(time_tuple[1]))"
   ]
  },
  {
   "cell_type": "code",
   "execution_count": 198,
   "id": "184411a9-f69d-4af4-b195-fef0b6e79a6e",
   "metadata": {},
   "outputs": [],
   "source": [
    "duration = running['Duration']\n",
    "\n",
    "duration_seconds = np.vectorize(str_to_sec)\n",
    "\n",
    "dur_mean = int(duration_seconds(duration).mean())\n",
    "dur_max = int(duration_seconds(duration).max())\n",
    "dur_min = int(duration_seconds(duration).min())\n",
    "dur_total = int(duration_seconds(duration).sum())"
   ]
  },
  {
   "cell_type": "code",
   "execution_count": 199,
   "id": "f5196862-7480-4e7d-a8a3-6287ca5042b2",
   "metadata": {},
   "outputs": [
    {
     "name": "stdout",
     "output_type": "stream",
     "text": [
      "Average Duration: 1.04 hours \n",
      " Longest Duration: 4.47 hours \n",
      " Shortest Duration: 5.25 minutes \n",
      "\n",
      " Total Duration: 476.01 hours\n"
     ]
    }
   ],
   "source": [
    "print(\n",
    "    f\"Average Duration: {round(dur_mean/3600, 2)} hours \\n\",\n",
    "    f\"Longest Duration: {round(dur_max/3600, 2)} hours \\n\",\n",
    "    f\"Shortest Duration: {dur_min/60} minutes \\n\\n\",\n",
    "    f\"Total Duration: {round(dur_total/3600, 2)} hours\"\n",
    ")"
   ]
  },
  {
   "cell_type": "markdown",
   "id": "8a96f048-8255-413a-888f-40c3bf13787a",
   "metadata": {},
   "source": [
    "##### **Development:**"
   ]
  },
  {
   "cell_type": "code",
   "execution_count": 200,
   "id": "827183f1-a77a-4f2a-8eb5-685dcf469a41",
   "metadata": {},
   "outputs": [
    {
     "data": {
      "text/plain": [
       "2012    0.35\n",
       "2013    0.67\n",
       "2014    0.94\n",
       "2015    1.26\n",
       "2016    1.06\n",
       "2017    1.19\n",
       "2018    1.24\n",
       "dtype: float64"
      ]
     },
     "execution_count": 200,
     "metadata": {},
     "output_type": "execute_result"
    }
   ],
   "source": [
    "duration_dict = {year: round(int(duration_seconds(running.loc[(running['Year'] == year)]['Duration']).mean())/3600, 2) for year in activity_years}\n",
    "duration_dev = pd.Series(duration_dict)\n",
    "duration_dev"
   ]
  },
  {
   "cell_type": "code",
   "execution_count": 201,
   "id": "306100bb-b7be-4139-9934-78101469abf6",
   "metadata": {},
   "outputs": [
    {
     "data": {
      "text/plain": [
       "<Axes: title={'center': 'Duration Development over the Years'}, xlabel='Year', ylabel='Duration (hours)'>"
      ]
     },
     "execution_count": 201,
     "metadata": {},
     "output_type": "execute_result"
    },
    {
     "data": {
      "image/png": "[encoded data removed]",
      "text/plain": [
       "<Figure size 640x480 with 1 Axes>"
      ]
     },
     "metadata": {},
     "output_type": "display_data"
    }
   ],
   "source": [
    "duration_dev.plot.line(title='Duration Development over the Years', xlabel='Year', ylabel='Duration (hours)', ylim=(0,1.4))"
   ]
  },
  {
   "cell_type": "markdown",
   "id": "517efed7-28d6-473d-92c3-2bef81a413f2",
   "metadata": {},
   "source": [
    "<br>"
   ]
  }
 ],
 "metadata": {
  "kernelspec": {
   "display_name": "Python 3 (ipykernel)",
   "language": "python",
   "name": "python3"
  },
  "language_info": {
   "codemirror_mode": {
    "name": "ipython",
    "version": 3
   },
   "file_extension": ".py",
   "mimetype": "text/x-python",
   "name": "python",
   "nbconvert_exporter": "python",
   "pygments_lexer": "ipython3",
   "version": "3.10.12"
  }
 },
 "nbformat": 4,
 "nbformat_minor": 5
}
